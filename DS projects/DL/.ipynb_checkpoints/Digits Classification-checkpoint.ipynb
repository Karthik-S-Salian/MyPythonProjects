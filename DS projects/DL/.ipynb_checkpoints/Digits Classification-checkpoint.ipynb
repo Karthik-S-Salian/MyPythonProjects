{
 "cells": [
  {
   "cell_type": "code",
   "execution_count": null,
   "id": "5bb5b90f",
   "metadata": {},
   "outputs": [],
   "source": [
    "nn=keras.Sequential([\n",
    "    keras.layers.Dense(8,input_shape=(8,),activation='relu'),\n",
    "    keras.layers.Dense(5,activation='relu'),\n",
    "    keras.layers.Dense(1,activation='sigmoid')\n",
    "])\n",
    "nn.compile(\n",
    "    optimizer='adam',\n",
    "    loss='binary_crossentropy',\n",
    "    metrics='accuracy'\n",
    ")\n",
    "nn.fit(X_train,y_train,epochs=10)"
   ]
  }
 ],
 "metadata": {
  "kernelspec": {
   "display_name": "Python 3",
   "language": "python",
   "name": "python3"
  },
  "language_info": {
   "codemirror_mode": {
    "name": "ipython",
    "version": 3
   },
   "file_extension": ".py",
   "mimetype": "text/x-python",
   "name": "python",
   "nbconvert_exporter": "python",
   "pygments_lexer": "ipython3",
   "version": "3.8.8"
  }
 },
 "nbformat": 4,
 "nbformat_minor": 5
}
