{
 "cells": [
  {
   "cell_type": "code",
   "execution_count": 1,
   "id": "a1ed6bb0",
   "metadata": {},
   "outputs": [],
   "source": [
    "import re"
   ]
  },
  {
   "cell_type": "code",
   "execution_count": 2,
   "id": "bf06988f",
   "metadata": {},
   "outputs": [],
   "source": [
    "str2=\"rssssSCIENCE\""
   ]
  },
  {
   "cell_type": "code",
   "execution_count": 3,
   "id": "3580bae1",
   "metadata": {},
   "outputs": [],
   "source": [
    "str3='vg'"
   ]
  },
  {
   "cell_type": "code",
   "execution_count": 4,
   "id": "959ca50e",
   "metadata": {
    "scrolled": true
   },
   "outputs": [
    {
     "data": {
      "text/plain": [
       "'rssss'"
      ]
     },
     "execution_count": 4,
     "metadata": {},
     "output_type": "execute_result"
    }
   ],
   "source": [
    "s=str2\n",
    "re.sub(r'SCIENCE|Commerce',\"\",s)"
   ]
  },
  {
   "cell_type": "code",
   "execution_count": 5,
   "id": "965af6e0",
   "metadata": {},
   "outputs": [],
   "source": [
    "a='all dog and cats are good friends'"
   ]
  },
  {
   "cell_type": "code",
   "execution_count": 6,
   "id": "e8a8aeac",
   "metadata": {},
   "outputs": [
    {
     "data": {
      "text/plain": [
       "['all', 'dog', 'and', 'cats', 'are', 'good', 'friends']"
      ]
     },
     "execution_count": 6,
     "metadata": {},
     "output_type": "execute_result"
    }
   ],
   "source": [
    "re.findall(r'[a-z]+',a)"
   ]
  },
  {
   "cell_type": "code",
   "execution_count": 7,
   "id": "0b4cf34a",
   "metadata": {},
   "outputs": [
    {
     "data": {
      "text/plain": [
       "'rssssSCIENCE'"
      ]
     },
     "execution_count": 7,
     "metadata": {},
     "output_type": "execute_result"
    }
   ],
   "source": [
    "str2"
   ]
  },
  {
   "cell_type": "code",
   "execution_count": 8,
   "id": "9af4ce7f",
   "metadata": {},
   "outputs": [],
   "source": [
    "x=re.search(\"SCIENCE\",str2)"
   ]
  },
  {
   "cell_type": "code",
   "execution_count": 9,
   "id": "978365cd",
   "metadata": {},
   "outputs": [
    {
     "data": {
      "text/plain": [
       "True"
      ]
     },
     "execution_count": 9,
     "metadata": {},
     "output_type": "execute_result"
    }
   ],
   "source": [
    "bool(x)"
   ]
  },
  {
   "cell_type": "code",
   "execution_count": 17,
   "id": "8ac8f282",
   "metadata": {},
   "outputs": [],
   "source": [
    "str1=\"vxvsbvvsCOMMERCE\""
   ]
  },
  {
   "cell_type": "code",
   "execution_count": 19,
   "id": "a6ef72c2",
   "metadata": {},
   "outputs": [
    {
     "data": {
      "text/plain": [
       "<re.Match object; span=(5, 12), match='SCIENCE'>"
      ]
     },
     "execution_count": 19,
     "metadata": {},
     "output_type": "execute_result"
    }
   ],
   "source": [
    "re.search(\"SCIENCE\",str2)"
   ]
  },
  {
   "cell_type": "code",
   "execution_count": 15,
   "id": "da0c7702",
   "metadata": {},
   "outputs": [
    {
     "data": {
      "text/plain": [
       "'rsss'"
      ]
     },
     "execution_count": 15,
     "metadata": {},
     "output_type": "execute_result"
    }
   ],
   "source": [
    "re.sub('.SCIENCE',\"\",str2)"
   ]
  },
  {
   "cell_type": "code",
   "execution_count": 13,
   "id": "12201993",
   "metadata": {},
   "outputs": [],
   "source": [
    "email='gkhkjhkhk89787@gmail.com'"
   ]
  },
  {
   "cell_type": "code",
   "execution_count": 2,
   "id": "65b8651d",
   "metadata": {},
   "outputs": [],
   "source": [
    "str3='34Sq. Feet'"
   ]
  },
  {
   "cell_type": "code",
   "execution_count": 42,
   "id": "55018c63",
   "metadata": {},
   "outputs": [
    {
     "data": {
      "text/plain": [
       "'34'"
      ]
     },
     "execution_count": 42,
     "metadata": {},
     "output_type": "execute_result"
    }
   ],
   "source": [
    "re.split(r'[A-Z]',str3)[0]"
   ]
  },
  {
   "cell_type": "code",
   "execution_count": 15,
   "id": "f5ba6b93",
   "metadata": {},
   "outputs": [
    {
     "data": {
      "text/plain": [
       "'Sq. Feet'"
      ]
     },
     "execution_count": 15,
     "metadata": {},
     "output_type": "execute_result"
    }
   ],
   "source": [
    "re.sub('\\d','',str3)"
   ]
  },
  {
   "cell_type": "code",
   "execution_count": null,
   "id": "9bd585a1",
   "metadata": {},
   "outputs": [],
   "source": []
  }
 ],
 "metadata": {
  "kernelspec": {
   "display_name": "Python 3",
   "language": "python",
   "name": "python3"
  },
  "language_info": {
   "codemirror_mode": {
    "name": "ipython",
    "version": 3
   },
   "file_extension": ".py",
   "mimetype": "text/x-python",
   "name": "python",
   "nbconvert_exporter": "python",
   "pygments_lexer": "ipython3",
   "version": "3.8.8"
  }
 },
 "nbformat": 4,
 "nbformat_minor": 5
}
