{
 "cells": [
  {
   "cell_type": "code",
   "execution_count": 87,
   "id": "80f3bc5f",
   "metadata": {},
   "outputs": [],
   "source": [
    "import PyPDF2\n",
    "from re import sub"
   ]
  },
  {
   "cell_type": "code",
   "execution_count": 88,
   "id": "27d45544",
   "metadata": {},
   "outputs": [],
   "source": [
    "fh=open('D:\\\\Users\\Dell\\Documents\\PDF\\PUC\\Computer\\Overview of Computer.pdf','rb')\n",
    "pdfh=PyPDF2.PdfFileReader(fh)"
   ]
  },
  {
   "cell_type": "code",
   "execution_count": 89,
   "id": "e2860fc1",
   "metadata": {},
   "outputs": [
    {
     "data": {
      "text/plain": [
       "6"
      ]
     },
     "execution_count": 89,
     "metadata": {},
     "output_type": "execute_result"
    }
   ],
   "source": [
    "pdfh.numPages"
   ]
  },
  {
   "cell_type": "code",
   "execution_count": 90,
   "id": "e7f3355b",
   "metadata": {},
   "outputs": [],
   "source": [
    "text1=pdfh.getPage(0).extractText()"
   ]
  },
  {
   "cell_type": "code",
   "execution_count": 91,
   "id": "a7ed4517",
   "metadata": {},
   "outputs": [
    {
     "data": {
      "text/plain": [
       "'Computer Science\\n \\n \\n                                                             \\n \\nST Thomas Pre University College,Byndoor\\n \\n \\nChapter 1\\n.\\nOverview of Computer\\n \\nComputer is \\nan electronic device which accepts the input, processing on them and produces\\n \\nthe output.\\n \\nData:\\n \\nData\\n \\nis a collection of unprocessed items, which can include text, numbers, audio or \\nvideo.\\n \\nInformation:\\n \\nProcessed\\n \\ndata is called information\\n \\n(Output).\\n \\nSoftware:\\n \\nA\\n \\nSet or collection of programs\\n \\nor instructions\\n \\nis known as software.\\n \\nHardware:\\n \\nThe\\n \\nphysical \\ncomponents or \\nparts of a computer system called as hardware.\\n \\nCharacteristics of Computer:\\n \\n1.\\n \\nSpeed\\n:\\n \\nThe computer works\\n \\nvery fast.\\n \\n2.\\n \\nStorage\\n:\\n \\nThe computer can store a large volume of data and information.\\n \\n3.\\n \\nAccuracy\\n:\\n \\nThe computer generated results are exact and without any mistakes\\n \\n4.\\n \\nDiligence\\n:\\n \\nC\\nomputer does not suffer from limitations like tiredness and lack of \\nconcentration.\\n \\n5.\\n \\nV\\nersatility:\\n \\nComputers are capable of performing any task.\\n \\n6.\\n \\nCost effectiveness\\n:\\n \\nComputers reduce the amount of paper work and human effort, \\nthereby reducing costs.\\n \\nFunctional components of a computer (Block diagram of a computer)\\n:\\n \\nA computer is contains four\\n \\nbasic units:\\n \\n1. Input Unit\\n \\n2. Central Processing Unit\\n \\n(CPU)\\n \\n\\n \\nArithmetic and Logic Unit (ALU)\\n \\n\\n \\nControl Unit\\n \\n3. Memory Unit\\n \\n4. Output Unit\\n \\n \\n \\n \\n \\n \\n \\n \\n \\n \\n \\n \\n \\n \\n \\nInput Unit\\n \\nOut\\nput Unit\\n \\n \\n \\nSecondary\\n \\nMemory\\n \\nPrimary\\n \\nMemory\\n \\n \\nControl\\n \\nunit\\n \\n \\nALU\\n \\n \\n'"
      ]
     },
     "execution_count": 91,
     "metadata": {},
     "output_type": "execute_result"
    }
   ],
   "source": [
    "text1"
   ]
  },
  {
   "cell_type": "code",
   "execution_count": 92,
   "id": "5423e724",
   "metadata": {
    "scrolled": false
   },
   "outputs": [],
   "source": [
    "t=sub('\\n','',text1)"
   ]
  },
  {
   "cell_type": "code",
   "execution_count": 93,
   "id": "bcbbbe0b",
   "metadata": {},
   "outputs": [],
   "source": [
    "text=sub('   ','',t)"
   ]
  },
  {
   "cell_type": "code",
   "execution_count": 94,
   "id": "ad27a7ff",
   "metadata": {},
   "outputs": [],
   "source": [
    "fh.close()"
   ]
  }
 ],
 "metadata": {
  "kernelspec": {
   "display_name": "Python 3",
   "language": "python",
   "name": "python3"
  },
  "language_info": {
   "codemirror_mode": {
    "name": "ipython",
    "version": 3
   },
   "file_extension": ".py",
   "mimetype": "text/x-python",
   "name": "python",
   "nbconvert_exporter": "python",
   "pygments_lexer": "ipython3",
   "version": "3.8.8"
  }
 },
 "nbformat": 4,
 "nbformat_minor": 5
}
